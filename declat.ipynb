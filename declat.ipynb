{
 "cells": [
  {
   "cell_type": "code",
   "execution_count": 1,
   "metadata": {},
   "outputs": [],
   "source": [
    "import pandas as pd\n",
    "from collections import defaultdict\n",
    "from typing import NewType\n",
    "\n",
    "input_path = r'data\\python_100_top_all_20221130_230247'\n",
    "data_df = pd.read_json(input_path + r'\\data.json').sort_index()\n",
    "tokens_map_df = pd.read_json(input_path + r'\\tokens_map.json',).sort_index()"
   ]
  },
  {
   "cell_type": "code",
   "execution_count": 2,
   "metadata": {},
   "outputs": [],
   "source": [
    "def get_candidate_id(*ids: int) -> str:\n",
    "    sorted_ids: list[int] = sorted(ids)\n",
    "    return '.'.join(str(id) for id in sorted_ids)"
   ]
  },
  {
   "cell_type": "code",
   "execution_count": 3,
   "metadata": {},
   "outputs": [],
   "source": [
    "all_tokens_ids: set[int] = set(tokens_map_df.index)\n",
    "num_transactions: int = len(data_df)\n",
    "dif_map: dict[int, set[int]] = defaultdict(set)\n",
    "\n",
    "for transaction_id, tokens_ids in data_df.iterrows():\n",
    "    non_existing_tokens_ids: set[int] = all_tokens_ids - set(tokens_ids['tokens'])\n",
    "    for token_id in non_existing_tokens_ids:\n",
    "        dif_map[token_id].add(transaction_id)\n",
    "\n",
    "dif_map = dict(dif_map)"
   ]
  },
  {
   "cell_type": "code",
   "execution_count": 4,
   "metadata": {},
   "outputs": [],
   "source": [
    "MIN_SUP = 2\n",
    "dif_map = {token_id: dif_list for token_id, dif_list in dif_map.items() if num_transactions - len(dif_list) > MIN_SUP}"
   ]
  },
  {
   "cell_type": "code",
   "execution_count": 5,
   "metadata": {},
   "outputs": [],
   "source": [
    "from typing import Union\n",
    "\n",
    "\n",
    "class Candidate:\n",
    "    def __init__(self, tokens_ids: list[int], sup: int, parent: Union['Candidate' , None]) -> None:\n",
    "        self.tokens_ids = tokens_ids\n",
    "        self.sup = sup\n",
    "        self.parent = parent\n",
    "\n",
    "    def __repr__(self) -> str:\n",
    "        return f'{self.sup} - {self.tokens_ids} - {self.parent.tokens_ids if self.parent is not None else None}'\n",
    "\n",
    "    def __str__(self) -> str:\n",
    "        return self.__repr__()"
   ]
  },
  {
   "cell_type": "code",
   "execution_count": 6,
   "metadata": {},
   "outputs": [
    {
     "name": "stdout",
     "output_type": "stream",
     "text": [
      "100 - [] - None\n",
      "3 - [16] - []\n",
      "32 - [17] - []\n",
      "22 - [19] - []\n",
      "3 - [21] - []\n",
      "11 - [22] - []\n",
      "3 - [23] - []\n",
      "3 - [25] - []\n",
      "13 - [28] - []\n",
      "3 - [30] - []\n",
      "3 - [31] - []\n",
      "10 - [32] - []\n",
      "27 - [33] - []\n",
      "4 - [34] - []\n",
      "19 - [35] - []\n",
      "3 - [36] - []\n",
      "27 - [39] - []\n",
      "14 - [41] - []\n",
      "6 - [42] - []\n",
      "3 - [45] - []\n",
      "3 - [47] - []\n",
      "7 - [49] - []\n",
      "3 - [51] - []\n",
      "4 - [52] - []\n",
      "4 - [54] - []\n",
      "21 - [56] - []\n",
      "3 - [60] - []\n",
      "3 - [65] - []\n",
      "4 - [67] - []\n",
      "14 - [71] - []\n",
      "6 - [73] - []\n",
      "5 - [75] - []\n",
      "21 - [76] - []\n",
      "4 - [77] - []\n",
      "3 - [94] - []\n",
      "7 - [96] - []\n",
      "13 - [101] - []\n",
      "4 - [102] - []\n",
      "8 - [106] - []\n",
      "4 - [107] - []\n",
      "3 - [117] - []\n",
      "5 - [125] - []\n",
      "3 - [132] - []\n",
      "3 - [134] - []\n",
      "17 - [136] - []\n",
      "21 - [138] - []\n",
      "3 - [143] - []\n",
      "3 - [144] - []\n",
      "3 - [145] - []\n",
      "4 - [147] - []\n",
      "4 - [153] - []\n",
      "3 - [154] - []\n",
      "5 - [159] - []\n",
      "4 - [181] - []\n",
      "4 - [186] - []\n",
      "3 - [197] - []\n",
      "7 - [199] - []\n",
      "6 - [219] - []\n",
      "4 - [224] - []\n",
      "6 - [227] - []\n",
      "4 - [238] - []\n",
      "3 - [246] - []\n",
      "5 - [250] - []\n",
      "3 - [257] - []\n",
      "4 - [281] - []\n",
      "3 - [282] - []\n",
      "3 - [284] - []\n",
      "4 - [330] - []\n",
      "3 - [360] - []\n",
      "3 - [365] - []\n",
      "3 - [378] - []\n",
      "5 - [420] - []\n",
      "3 - [479] - []\n",
      "6 - [1] - []\n",
      "45 - [2] - []\n",
      "48 - [3] - []\n",
      "10 - [4] - []\n",
      "30 - [5] - []\n",
      "10 - [13] - []\n"
     ]
    }
   ],
   "source": [
    "candidates: list[Candidate] = []\n",
    "root_candidate = Candidate([], num_transactions, None)\n",
    "candidates.append(root_candidate)\n",
    "for token_id, dif_list in dif_map.items():\n",
    "    candidates.append(Candidate([token_id], num_transactions - len(dif_list), root_candidate))\n",
    "\n",
    "for candidate in candidates:\n",
    "    print(candidate)"
   ]
  }
 ],
 "metadata": {
  "kernelspec": {
   "display_name": "Python 3.10.8 ('.venv': venv)",
   "language": "python",
   "name": "python3"
  },
  "language_info": {
   "codemirror_mode": {
    "name": "ipython",
    "version": 3
   },
   "file_extension": ".py",
   "mimetype": "text/x-python",
   "name": "python",
   "nbconvert_exporter": "python",
   "pygments_lexer": "ipython3",
   "version": "3.10.8"
  },
  "orig_nbformat": 4,
  "vscode": {
   "interpreter": {
    "hash": "4c4428125e7eadc86141555307ed3b745f5b22ad8fea118dcaf24f96fecd8d66"
   }
  }
 },
 "nbformat": 4,
 "nbformat_minor": 2
}
