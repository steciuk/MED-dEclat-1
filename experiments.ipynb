{
 "cells": [
  {
   "cell_type": "code",
   "execution_count": null,
   "metadata": {},
   "outputs": [],
   "source": [
    "from build_tree import build_tree, IdSetsLengthStats\n",
    "import matplotlib.pyplot as plt\n",
    "import numpy as np"
   ]
  },
  {
   "cell_type": "code",
   "execution_count": null,
   "metadata": {},
   "outputs": [],
   "source": [
    "AMA_DATA_DIRECTORY = \"experiments_data/ama_500_top_all_20221212_210307\"\n",
    "FUNNY_DATA_DIRECTORY = \"experiments_data/funny_500_top_all_20221209_110529\"\n",
    "\n",
    "MIN_SUPPORTS: list[int] = [x for x in range(4, 200)]"
   ]
  },
  {
   "cell_type": "code",
   "execution_count": null,
   "metadata": {},
   "outputs": [],
   "source": [
    "ama_eclat_results: list[IdSetsLengthStats] = []\n",
    "ama_declat_results: list[IdSetsLengthStats] = []\n",
    "funny_declat_results: list[IdSetsLengthStats] = []\n",
    "funny_eclat_results: list[IdSetsLengthStats] = []\n",
    "\n",
    "for min_support in MIN_SUPPORTS:\n",
    "\ttree, results = build_tree(AMA_DATA_DIRECTORY, min_support, \"eclat\")\n",
    "\tama_eclat_results.append(results)\n",
    "\ttree, results = build_tree(AMA_DATA_DIRECTORY, min_support, \"declat\")\n",
    "\tama_declat_results.append(results)\n",
    "\n",
    "for min_support in MIN_SUPPORTS:\n",
    "\ttree, results = build_tree(FUNNY_DATA_DIRECTORY, min_support, \"declat\")\n",
    "\tfunny_declat_results.append(results)\n",
    "\ttree, results = build_tree(FUNNY_DATA_DIRECTORY, min_support, \"eclat\")\n",
    "\tfunny_eclat_results.append(results)"
   ]
  },
  {
   "cell_type": "markdown",
   "metadata": {},
   "source": [
    "# AMA"
   ]
  },
  {
   "cell_type": "code",
   "execution_count": null,
   "metadata": {},
   "outputs": [],
   "source": [
    "fig, ax = plt.subplots()\n",
    "ax.plot(MIN_SUPPORTS, [result.avg for result in ama_eclat_results], label=\"eclat\")\n",
    "ax.plot(MIN_SUPPORTS, [result.avg for result in ama_declat_results], label=\"declat\")\n",
    "\n",
    "ax.set(xlabel='Min support', ylabel='Average length of id sets',\n",
    "       title='ama_500_top_all_20221212_210307')\n",
    "ax.grid()\n",
    "plt.legend()\n",
    "\n",
    "plt.show()"
   ]
  },
  {
   "cell_type": "code",
   "execution_count": null,
   "metadata": {},
   "outputs": [],
   "source": [
    "fig, ax = plt.subplots()\n",
    "ax.plot(MIN_SUPPORTS, [result.median for result in ama_eclat_results], label=\"eclat\")\n",
    "ax.plot(MIN_SUPPORTS, [result.median for result in ama_declat_results], label=\"declat\")\n",
    "\n",
    "ax.set(xlabel='Min support', ylabel='Median length of id sets',\n",
    "       title='ama_500_top_all_20221212_210307')\n",
    "ax.grid()\n",
    "plt.legend()\n",
    "\n",
    "plt.show()"
   ]
  },
  {
   "cell_type": "code",
   "execution_count": null,
   "metadata": {},
   "outputs": [],
   "source": [
    "fig, ax = plt.subplots()\n",
    "ax.plot(MIN_SUPPORTS, [result.min for result in ama_eclat_results], label=\"eclat\")\n",
    "ax.plot(MIN_SUPPORTS, [result.min for result in ama_declat_results], label=\"declat\")\n",
    "\n",
    "ax.set(xlabel='Min support', ylabel='Size of the smallest id set',\n",
    "       title='ama_500_top_all_20221212_210307')\n",
    "ax.grid()\n",
    "plt.legend()\n",
    "\n",
    "plt.show()"
   ]
  },
  {
   "cell_type": "code",
   "execution_count": null,
   "metadata": {},
   "outputs": [],
   "source": [
    "fig, ax = plt.subplots()\n",
    "ax.plot(MIN_SUPPORTS, [result.max for result in ama_eclat_results], label=\"eclat\")\n",
    "ax.plot(MIN_SUPPORTS, [result.max for result in ama_declat_results], label=\"declat\")\n",
    "\n",
    "ax.set(xlabel='Min support', ylabel='Size of the biggest id set',\n",
    "       title='ama_500_top_all_20221212_210307')\n",
    "ax.grid()\n",
    "plt.legend()\n",
    "\n",
    "plt.show()"
   ]
  },
  {
   "attachments": {},
   "cell_type": "markdown",
   "metadata": {},
   "source": [
    "# FUNNY"
   ]
  },
  {
   "cell_type": "code",
   "execution_count": null,
   "metadata": {},
   "outputs": [],
   "source": [
    "fig, ax = plt.subplots()\n",
    "ax.plot(MIN_SUPPORTS, [result.avg for result in funny_eclat_results], label=\"eclat\")\n",
    "ax.plot(MIN_SUPPORTS, [result.avg for result in funny_declat_results], label=\"declat\")\n",
    "\n",
    "ax.set(xlabel='Min support', ylabel='Average length of id sets',\n",
    "       title='funny_500_top_all_20221209_110529')\n",
    "ax.grid()\n",
    "plt.legend()\n",
    "\n",
    "plt.show()"
   ]
  },
  {
   "cell_type": "code",
   "execution_count": null,
   "metadata": {},
   "outputs": [],
   "source": [
    "fig, ax = plt.subplots()\n",
    "ax.plot(MIN_SUPPORTS, [result.median for result in funny_eclat_results], label=\"eclat\")\n",
    "ax.plot(MIN_SUPPORTS, [result.median for result in funny_declat_results], label=\"declat\")\n",
    "\n",
    "ax.set(xlabel='Min support', ylabel='Median length of id sets',\n",
    "       title='funny_500_top_all_20221209_110529')\n",
    "ax.grid()\n",
    "plt.legend()\n",
    "\n",
    "plt.show()"
   ]
  },
  {
   "cell_type": "code",
   "execution_count": null,
   "metadata": {},
   "outputs": [],
   "source": [
    "fig, ax = plt.subplots()\n",
    "ax.plot(MIN_SUPPORTS, [result.min for result in funny_eclat_results], label=\"eclat\")\n",
    "ax.plot(MIN_SUPPORTS, [result.min for result in funny_declat_results], label=\"declat\")\n",
    "\n",
    "ax.set(xlabel='Min support', ylabel='Size of the smallest id set',\n",
    "       title='funny_500_top_all_20221209_110529')\n",
    "ax.grid()\n",
    "plt.legend()\n",
    "\n",
    "plt.show()"
   ]
  },
  {
   "cell_type": "code",
   "execution_count": null,
   "metadata": {},
   "outputs": [],
   "source": [
    "fig, ax = plt.subplots()\n",
    "ax.plot(MIN_SUPPORTS, [result.max for result in funny_eclat_results], label=\"eclat\")\n",
    "ax.plot(MIN_SUPPORTS, [result.max for result in funny_declat_results], label=\"declat\")\n",
    "\n",
    "ax.set(xlabel='Min support', ylabel='Size of the biggest id set',\n",
    "       title='funny_500_top_all_20221209_110529')\n",
    "ax.grid()\n",
    "plt.legend()\n",
    "\n",
    "plt.show()"
   ]
  }
 ],
 "metadata": {
  "kernelspec": {
   "display_name": ".venv",
   "language": "python",
   "name": "python3"
  },
  "language_info": {
   "codemirror_mode": {
    "name": "ipython",
    "version": 3
   },
   "file_extension": ".py",
   "mimetype": "text/x-python",
   "name": "python",
   "nbconvert_exporter": "python",
   "pygments_lexer": "ipython3",
   "version": "3.10.8"
  },
  "orig_nbformat": 4,
  "vscode": {
   "interpreter": {
    "hash": "4c4428125e7eadc86141555307ed3b745f5b22ad8fea118dcaf24f96fecd8d66"
   }
  }
 },
 "nbformat": 4,
 "nbformat_minor": 2
}
